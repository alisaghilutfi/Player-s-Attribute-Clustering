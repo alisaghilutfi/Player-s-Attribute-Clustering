{
 "cells": [
  {
   "cell_type": "code",
   "execution_count": 2,
   "metadata": {},
   "outputs": [],
   "source": [
    "import os\n",
    "import sqlite3\n",
    "import pandas as pd\n",
    "import numpy as np\n",
    "import matplotlib.pyplot as plt\n",
    "from sklearn.cluster import KMeans\n",
    "from sklearn.preprocessing import scale\n",
    "from customplot import *"
   ]
  },
  {
   "cell_type": "code",
   "execution_count": 49,
   "metadata": {},
   "outputs": [],
   "source": [
    "import seaborn as sns; sns.set()"
   ]
  },
  {
   "cell_type": "code",
   "execution_count": 3,
   "metadata": {},
   "outputs": [
    {
     "name": "stdout",
     "output_type": "stream",
     "text": [
      "C:\\Users\\Ali Saghi\\Desktop\\edx-python\\Python for Data Science\\Week01\\Soccer Data Analysis\n"
     ]
    }
   ],
   "source": [
    "# setting the path\n",
    "os.chdir(\"C:/Users/Ali Saghi/Desktop/edx-python/Python for Data Science/Week01/Soccer Data Analysis\")\n",
    "print(os.getcwd())"
   ]
  },
  {
   "cell_type": "code",
   "execution_count": 4,
   "metadata": {},
   "outputs": [],
   "source": [
    "# create our connection to the database \n",
    "connection = sqlite3.connect('database.sqlite')\n",
    "df = pd.read_sql_query('SELECT * FROM Player_Attributes', connection)"
   ]
  },
  {
   "cell_type": "markdown",
   "metadata": {},
   "source": [
    "## Exploring Data"
   ]
  },
  {
   "cell_type": "code",
   "execution_count": 5,
   "metadata": {},
   "outputs": [
    {
     "data": {
      "text/plain": [
       "pandas.core.frame.DataFrame"
      ]
     },
     "execution_count": 5,
     "metadata": {},
     "output_type": "execute_result"
    }
   ],
   "source": [
    "type(df)"
   ]
  },
  {
   "cell_type": "code",
   "execution_count": 6,
   "metadata": {},
   "outputs": [
    {
     "data": {
      "text/plain": [
       "(183978, 42)"
      ]
     },
     "execution_count": 6,
     "metadata": {},
     "output_type": "execute_result"
    }
   ],
   "source": [
    "df.shape"
   ]
  },
  {
   "cell_type": "code",
   "execution_count": 7,
   "metadata": {},
   "outputs": [
    {
     "data": {
      "text/plain": [
       "Index(['id', 'player_fifa_api_id', 'player_api_id', 'date', 'overall_rating',\n",
       "       'potential', 'preferred_foot', 'attacking_work_rate',\n",
       "       'defensive_work_rate', 'crossing', 'finishing', 'heading_accuracy',\n",
       "       'short_passing', 'volleys', 'dribbling', 'curve', 'free_kick_accuracy',\n",
       "       'long_passing', 'ball_control', 'acceleration', 'sprint_speed',\n",
       "       'agility', 'reactions', 'balance', 'shot_power', 'jumping', 'stamina',\n",
       "       'strength', 'long_shots', 'aggression', 'interceptions', 'positioning',\n",
       "       'vision', 'penalties', 'marking', 'standing_tackle', 'sliding_tackle',\n",
       "       'gk_diving', 'gk_handling', 'gk_kicking', 'gk_positioning',\n",
       "       'gk_reflexes'],\n",
       "      dtype='object')"
      ]
     },
     "execution_count": 7,
     "metadata": {},
     "output_type": "execute_result"
    }
   ],
   "source": [
    "df.columns"
   ]
  },
  {
   "cell_type": "code",
   "execution_count": 8,
   "metadata": {},
   "outputs": [
    {
     "name": "stdout",
     "output_type": "stream",
     "text": [
      "<class 'pandas.core.frame.DataFrame'>\n",
      "RangeIndex: 183978 entries, 0 to 183977\n",
      "Data columns (total 42 columns):\n",
      "id                     183978 non-null int64\n",
      "player_fifa_api_id     183978 non-null int64\n",
      "player_api_id          183978 non-null int64\n",
      "date                   183978 non-null object\n",
      "overall_rating         183142 non-null float64\n",
      "potential              183142 non-null float64\n",
      "preferred_foot         183142 non-null object\n",
      "attacking_work_rate    180748 non-null object\n",
      "defensive_work_rate    183142 non-null object\n",
      "crossing               183142 non-null float64\n",
      "finishing              183142 non-null float64\n",
      "heading_accuracy       183142 non-null float64\n",
      "short_passing          183142 non-null float64\n",
      "volleys                181265 non-null float64\n",
      "dribbling              183142 non-null float64\n",
      "curve                  181265 non-null float64\n",
      "free_kick_accuracy     183142 non-null float64\n",
      "long_passing           183142 non-null float64\n",
      "ball_control           183142 non-null float64\n",
      "acceleration           183142 non-null float64\n",
      "sprint_speed           183142 non-null float64\n",
      "agility                181265 non-null float64\n",
      "reactions              183142 non-null float64\n",
      "balance                181265 non-null float64\n",
      "shot_power             183142 non-null float64\n",
      "jumping                181265 non-null float64\n",
      "stamina                183142 non-null float64\n",
      "strength               183142 non-null float64\n",
      "long_shots             183142 non-null float64\n",
      "aggression             183142 non-null float64\n",
      "interceptions          183142 non-null float64\n",
      "positioning            183142 non-null float64\n",
      "vision                 181265 non-null float64\n",
      "penalties              183142 non-null float64\n",
      "marking                183142 non-null float64\n",
      "standing_tackle        183142 non-null float64\n",
      "sliding_tackle         181265 non-null float64\n",
      "gk_diving              183142 non-null float64\n",
      "gk_handling            183142 non-null float64\n",
      "gk_kicking             183142 non-null float64\n",
      "gk_positioning         183142 non-null float64\n",
      "gk_reflexes            183142 non-null float64\n",
      "dtypes: float64(35), int64(3), object(4)\n",
      "memory usage: 56.1+ MB\n"
     ]
    }
   ],
   "source": [
    "df.info()"
   ]
  },
  {
   "cell_type": "code",
   "execution_count": 10,
   "metadata": {},
   "outputs": [
    {
     "data": {
      "text/html": [
       "<div>\n",
       "<style scoped>\n",
       "    .dataframe tbody tr th:only-of-type {\n",
       "        vertical-align: middle;\n",
       "    }\n",
       "\n",
       "    .dataframe tbody tr th {\n",
       "        vertical-align: top;\n",
       "    }\n",
       "\n",
       "    .dataframe thead th {\n",
       "        text-align: right;\n",
       "    }\n",
       "</style>\n",
       "<table border=\"1\" class=\"dataframe\">\n",
       "  <thead>\n",
       "    <tr style=\"text-align: right;\">\n",
       "      <th></th>\n",
       "      <th>count</th>\n",
       "      <th>mean</th>\n",
       "      <th>std</th>\n",
       "      <th>min</th>\n",
       "      <th>25%</th>\n",
       "      <th>50%</th>\n",
       "      <th>75%</th>\n",
       "      <th>max</th>\n",
       "    </tr>\n",
       "  </thead>\n",
       "  <tbody>\n",
       "    <tr>\n",
       "      <th>id</th>\n",
       "      <td>183978.0</td>\n",
       "      <td>91989.500000</td>\n",
       "      <td>53110.018250</td>\n",
       "      <td>1.0</td>\n",
       "      <td>45995.25</td>\n",
       "      <td>91989.5</td>\n",
       "      <td>137983.75</td>\n",
       "      <td>183978.0</td>\n",
       "    </tr>\n",
       "    <tr>\n",
       "      <th>player_fifa_api_id</th>\n",
       "      <td>183978.0</td>\n",
       "      <td>165671.524291</td>\n",
       "      <td>53851.094769</td>\n",
       "      <td>2.0</td>\n",
       "      <td>155798.00</td>\n",
       "      <td>183488.0</td>\n",
       "      <td>199848.00</td>\n",
       "      <td>234141.0</td>\n",
       "    </tr>\n",
       "    <tr>\n",
       "      <th>player_api_id</th>\n",
       "      <td>183978.0</td>\n",
       "      <td>135900.617324</td>\n",
       "      <td>136927.840510</td>\n",
       "      <td>2625.0</td>\n",
       "      <td>34763.00</td>\n",
       "      <td>77741.0</td>\n",
       "      <td>191080.00</td>\n",
       "      <td>750584.0</td>\n",
       "    </tr>\n",
       "    <tr>\n",
       "      <th>overall_rating</th>\n",
       "      <td>183142.0</td>\n",
       "      <td>68.600015</td>\n",
       "      <td>7.041139</td>\n",
       "      <td>33.0</td>\n",
       "      <td>64.00</td>\n",
       "      <td>69.0</td>\n",
       "      <td>73.00</td>\n",
       "      <td>94.0</td>\n",
       "    </tr>\n",
       "    <tr>\n",
       "      <th>potential</th>\n",
       "      <td>183142.0</td>\n",
       "      <td>73.460353</td>\n",
       "      <td>6.592271</td>\n",
       "      <td>39.0</td>\n",
       "      <td>69.00</td>\n",
       "      <td>74.0</td>\n",
       "      <td>78.00</td>\n",
       "      <td>97.0</td>\n",
       "    </tr>\n",
       "    <tr>\n",
       "      <th>crossing</th>\n",
       "      <td>183142.0</td>\n",
       "      <td>55.086883</td>\n",
       "      <td>17.242135</td>\n",
       "      <td>1.0</td>\n",
       "      <td>45.00</td>\n",
       "      <td>59.0</td>\n",
       "      <td>68.00</td>\n",
       "      <td>95.0</td>\n",
       "    </tr>\n",
       "    <tr>\n",
       "      <th>finishing</th>\n",
       "      <td>183142.0</td>\n",
       "      <td>49.921078</td>\n",
       "      <td>19.038705</td>\n",
       "      <td>1.0</td>\n",
       "      <td>34.00</td>\n",
       "      <td>53.0</td>\n",
       "      <td>65.00</td>\n",
       "      <td>97.0</td>\n",
       "    </tr>\n",
       "    <tr>\n",
       "      <th>heading_accuracy</th>\n",
       "      <td>183142.0</td>\n",
       "      <td>57.266023</td>\n",
       "      <td>16.488905</td>\n",
       "      <td>1.0</td>\n",
       "      <td>49.00</td>\n",
       "      <td>60.0</td>\n",
       "      <td>68.00</td>\n",
       "      <td>98.0</td>\n",
       "    </tr>\n",
       "    <tr>\n",
       "      <th>short_passing</th>\n",
       "      <td>183142.0</td>\n",
       "      <td>62.429672</td>\n",
       "      <td>14.194068</td>\n",
       "      <td>3.0</td>\n",
       "      <td>57.00</td>\n",
       "      <td>65.0</td>\n",
       "      <td>72.00</td>\n",
       "      <td>97.0</td>\n",
       "    </tr>\n",
       "    <tr>\n",
       "      <th>volleys</th>\n",
       "      <td>181265.0</td>\n",
       "      <td>49.468436</td>\n",
       "      <td>18.256618</td>\n",
       "      <td>1.0</td>\n",
       "      <td>35.00</td>\n",
       "      <td>52.0</td>\n",
       "      <td>64.00</td>\n",
       "      <td>93.0</td>\n",
       "    </tr>\n",
       "    <tr>\n",
       "      <th>dribbling</th>\n",
       "      <td>183142.0</td>\n",
       "      <td>59.175154</td>\n",
       "      <td>17.744688</td>\n",
       "      <td>1.0</td>\n",
       "      <td>52.00</td>\n",
       "      <td>64.0</td>\n",
       "      <td>72.00</td>\n",
       "      <td>97.0</td>\n",
       "    </tr>\n",
       "    <tr>\n",
       "      <th>curve</th>\n",
       "      <td>181265.0</td>\n",
       "      <td>52.965675</td>\n",
       "      <td>18.255788</td>\n",
       "      <td>2.0</td>\n",
       "      <td>41.00</td>\n",
       "      <td>56.0</td>\n",
       "      <td>67.00</td>\n",
       "      <td>94.0</td>\n",
       "    </tr>\n",
       "    <tr>\n",
       "      <th>free_kick_accuracy</th>\n",
       "      <td>183142.0</td>\n",
       "      <td>49.380950</td>\n",
       "      <td>17.831746</td>\n",
       "      <td>1.0</td>\n",
       "      <td>36.00</td>\n",
       "      <td>50.0</td>\n",
       "      <td>63.00</td>\n",
       "      <td>97.0</td>\n",
       "    </tr>\n",
       "    <tr>\n",
       "      <th>long_passing</th>\n",
       "      <td>183142.0</td>\n",
       "      <td>57.069880</td>\n",
       "      <td>14.394464</td>\n",
       "      <td>3.0</td>\n",
       "      <td>49.00</td>\n",
       "      <td>59.0</td>\n",
       "      <td>67.00</td>\n",
       "      <td>97.0</td>\n",
       "    </tr>\n",
       "    <tr>\n",
       "      <th>ball_control</th>\n",
       "      <td>183142.0</td>\n",
       "      <td>63.388879</td>\n",
       "      <td>15.196671</td>\n",
       "      <td>5.0</td>\n",
       "      <td>58.00</td>\n",
       "      <td>67.0</td>\n",
       "      <td>73.00</td>\n",
       "      <td>97.0</td>\n",
       "    </tr>\n",
       "    <tr>\n",
       "      <th>acceleration</th>\n",
       "      <td>183142.0</td>\n",
       "      <td>67.659357</td>\n",
       "      <td>12.983326</td>\n",
       "      <td>10.0</td>\n",
       "      <td>61.00</td>\n",
       "      <td>69.0</td>\n",
       "      <td>77.00</td>\n",
       "      <td>97.0</td>\n",
       "    </tr>\n",
       "    <tr>\n",
       "      <th>sprint_speed</th>\n",
       "      <td>183142.0</td>\n",
       "      <td>68.051244</td>\n",
       "      <td>12.569721</td>\n",
       "      <td>12.0</td>\n",
       "      <td>62.00</td>\n",
       "      <td>69.0</td>\n",
       "      <td>77.00</td>\n",
       "      <td>97.0</td>\n",
       "    </tr>\n",
       "    <tr>\n",
       "      <th>agility</th>\n",
       "      <td>181265.0</td>\n",
       "      <td>65.970910</td>\n",
       "      <td>12.954585</td>\n",
       "      <td>11.0</td>\n",
       "      <td>58.00</td>\n",
       "      <td>68.0</td>\n",
       "      <td>75.00</td>\n",
       "      <td>96.0</td>\n",
       "    </tr>\n",
       "    <tr>\n",
       "      <th>reactions</th>\n",
       "      <td>183142.0</td>\n",
       "      <td>66.103706</td>\n",
       "      <td>9.155408</td>\n",
       "      <td>17.0</td>\n",
       "      <td>61.00</td>\n",
       "      <td>67.0</td>\n",
       "      <td>72.00</td>\n",
       "      <td>96.0</td>\n",
       "    </tr>\n",
       "    <tr>\n",
       "      <th>balance</th>\n",
       "      <td>181265.0</td>\n",
       "      <td>65.189496</td>\n",
       "      <td>13.063188</td>\n",
       "      <td>12.0</td>\n",
       "      <td>58.00</td>\n",
       "      <td>67.0</td>\n",
       "      <td>74.00</td>\n",
       "      <td>96.0</td>\n",
       "    </tr>\n",
       "    <tr>\n",
       "      <th>shot_power</th>\n",
       "      <td>183142.0</td>\n",
       "      <td>61.808427</td>\n",
       "      <td>16.135143</td>\n",
       "      <td>2.0</td>\n",
       "      <td>54.00</td>\n",
       "      <td>65.0</td>\n",
       "      <td>73.00</td>\n",
       "      <td>97.0</td>\n",
       "    </tr>\n",
       "    <tr>\n",
       "      <th>jumping</th>\n",
       "      <td>181265.0</td>\n",
       "      <td>66.969045</td>\n",
       "      <td>11.006734</td>\n",
       "      <td>14.0</td>\n",
       "      <td>60.00</td>\n",
       "      <td>68.0</td>\n",
       "      <td>74.00</td>\n",
       "      <td>96.0</td>\n",
       "    </tr>\n",
       "    <tr>\n",
       "      <th>stamina</th>\n",
       "      <td>183142.0</td>\n",
       "      <td>67.038544</td>\n",
       "      <td>13.165262</td>\n",
       "      <td>10.0</td>\n",
       "      <td>61.00</td>\n",
       "      <td>69.0</td>\n",
       "      <td>76.00</td>\n",
       "      <td>96.0</td>\n",
       "    </tr>\n",
       "    <tr>\n",
       "      <th>strength</th>\n",
       "      <td>183142.0</td>\n",
       "      <td>67.424529</td>\n",
       "      <td>12.072280</td>\n",
       "      <td>10.0</td>\n",
       "      <td>60.00</td>\n",
       "      <td>69.0</td>\n",
       "      <td>76.00</td>\n",
       "      <td>96.0</td>\n",
       "    </tr>\n",
       "    <tr>\n",
       "      <th>long_shots</th>\n",
       "      <td>183142.0</td>\n",
       "      <td>53.339431</td>\n",
       "      <td>18.367025</td>\n",
       "      <td>1.0</td>\n",
       "      <td>41.00</td>\n",
       "      <td>58.0</td>\n",
       "      <td>67.00</td>\n",
       "      <td>96.0</td>\n",
       "    </tr>\n",
       "    <tr>\n",
       "      <th>aggression</th>\n",
       "      <td>183142.0</td>\n",
       "      <td>60.948046</td>\n",
       "      <td>16.089521</td>\n",
       "      <td>6.0</td>\n",
       "      <td>51.00</td>\n",
       "      <td>64.0</td>\n",
       "      <td>73.00</td>\n",
       "      <td>97.0</td>\n",
       "    </tr>\n",
       "    <tr>\n",
       "      <th>interceptions</th>\n",
       "      <td>183142.0</td>\n",
       "      <td>52.009271</td>\n",
       "      <td>19.450133</td>\n",
       "      <td>1.0</td>\n",
       "      <td>34.00</td>\n",
       "      <td>57.0</td>\n",
       "      <td>68.00</td>\n",
       "      <td>96.0</td>\n",
       "    </tr>\n",
       "    <tr>\n",
       "      <th>positioning</th>\n",
       "      <td>183142.0</td>\n",
       "      <td>55.786504</td>\n",
       "      <td>18.448292</td>\n",
       "      <td>2.0</td>\n",
       "      <td>45.00</td>\n",
       "      <td>60.0</td>\n",
       "      <td>69.00</td>\n",
       "      <td>96.0</td>\n",
       "    </tr>\n",
       "    <tr>\n",
       "      <th>vision</th>\n",
       "      <td>181265.0</td>\n",
       "      <td>57.873550</td>\n",
       "      <td>15.144086</td>\n",
       "      <td>1.0</td>\n",
       "      <td>49.00</td>\n",
       "      <td>60.0</td>\n",
       "      <td>69.00</td>\n",
       "      <td>97.0</td>\n",
       "    </tr>\n",
       "    <tr>\n",
       "      <th>penalties</th>\n",
       "      <td>183142.0</td>\n",
       "      <td>55.003986</td>\n",
       "      <td>15.546519</td>\n",
       "      <td>2.0</td>\n",
       "      <td>45.00</td>\n",
       "      <td>57.0</td>\n",
       "      <td>67.00</td>\n",
       "      <td>96.0</td>\n",
       "    </tr>\n",
       "    <tr>\n",
       "      <th>marking</th>\n",
       "      <td>183142.0</td>\n",
       "      <td>46.772242</td>\n",
       "      <td>21.227667</td>\n",
       "      <td>1.0</td>\n",
       "      <td>25.00</td>\n",
       "      <td>50.0</td>\n",
       "      <td>66.00</td>\n",
       "      <td>96.0</td>\n",
       "    </tr>\n",
       "    <tr>\n",
       "      <th>standing_tackle</th>\n",
       "      <td>183142.0</td>\n",
       "      <td>50.351257</td>\n",
       "      <td>21.483706</td>\n",
       "      <td>1.0</td>\n",
       "      <td>29.00</td>\n",
       "      <td>56.0</td>\n",
       "      <td>69.00</td>\n",
       "      <td>95.0</td>\n",
       "    </tr>\n",
       "    <tr>\n",
       "      <th>sliding_tackle</th>\n",
       "      <td>181265.0</td>\n",
       "      <td>48.001462</td>\n",
       "      <td>21.598778</td>\n",
       "      <td>2.0</td>\n",
       "      <td>25.00</td>\n",
       "      <td>53.0</td>\n",
       "      <td>67.00</td>\n",
       "      <td>95.0</td>\n",
       "    </tr>\n",
       "    <tr>\n",
       "      <th>gk_diving</th>\n",
       "      <td>183142.0</td>\n",
       "      <td>14.704393</td>\n",
       "      <td>16.865467</td>\n",
       "      <td>1.0</td>\n",
       "      <td>7.00</td>\n",
       "      <td>10.0</td>\n",
       "      <td>13.00</td>\n",
       "      <td>94.0</td>\n",
       "    </tr>\n",
       "    <tr>\n",
       "      <th>gk_handling</th>\n",
       "      <td>183142.0</td>\n",
       "      <td>16.063612</td>\n",
       "      <td>15.867382</td>\n",
       "      <td>1.0</td>\n",
       "      <td>8.00</td>\n",
       "      <td>11.0</td>\n",
       "      <td>15.00</td>\n",
       "      <td>93.0</td>\n",
       "    </tr>\n",
       "    <tr>\n",
       "      <th>gk_kicking</th>\n",
       "      <td>183142.0</td>\n",
       "      <td>20.998362</td>\n",
       "      <td>21.452980</td>\n",
       "      <td>1.0</td>\n",
       "      <td>8.00</td>\n",
       "      <td>12.0</td>\n",
       "      <td>15.00</td>\n",
       "      <td>97.0</td>\n",
       "    </tr>\n",
       "    <tr>\n",
       "      <th>gk_positioning</th>\n",
       "      <td>183142.0</td>\n",
       "      <td>16.132154</td>\n",
       "      <td>16.099175</td>\n",
       "      <td>1.0</td>\n",
       "      <td>8.00</td>\n",
       "      <td>11.0</td>\n",
       "      <td>15.00</td>\n",
       "      <td>96.0</td>\n",
       "    </tr>\n",
       "    <tr>\n",
       "      <th>gk_reflexes</th>\n",
       "      <td>183142.0</td>\n",
       "      <td>16.441439</td>\n",
       "      <td>17.198155</td>\n",
       "      <td>1.0</td>\n",
       "      <td>8.00</td>\n",
       "      <td>11.0</td>\n",
       "      <td>15.00</td>\n",
       "      <td>96.0</td>\n",
       "    </tr>\n",
       "  </tbody>\n",
       "</table>\n",
       "</div>"
      ],
      "text/plain": [
       "                       count           mean            std     min        25%  \\\n",
       "id                  183978.0   91989.500000   53110.018250     1.0   45995.25   \n",
       "player_fifa_api_id  183978.0  165671.524291   53851.094769     2.0  155798.00   \n",
       "player_api_id       183978.0  135900.617324  136927.840510  2625.0   34763.00   \n",
       "overall_rating      183142.0      68.600015       7.041139    33.0      64.00   \n",
       "potential           183142.0      73.460353       6.592271    39.0      69.00   \n",
       "crossing            183142.0      55.086883      17.242135     1.0      45.00   \n",
       "finishing           183142.0      49.921078      19.038705     1.0      34.00   \n",
       "heading_accuracy    183142.0      57.266023      16.488905     1.0      49.00   \n",
       "short_passing       183142.0      62.429672      14.194068     3.0      57.00   \n",
       "volleys             181265.0      49.468436      18.256618     1.0      35.00   \n",
       "dribbling           183142.0      59.175154      17.744688     1.0      52.00   \n",
       "curve               181265.0      52.965675      18.255788     2.0      41.00   \n",
       "free_kick_accuracy  183142.0      49.380950      17.831746     1.0      36.00   \n",
       "long_passing        183142.0      57.069880      14.394464     3.0      49.00   \n",
       "ball_control        183142.0      63.388879      15.196671     5.0      58.00   \n",
       "acceleration        183142.0      67.659357      12.983326    10.0      61.00   \n",
       "sprint_speed        183142.0      68.051244      12.569721    12.0      62.00   \n",
       "agility             181265.0      65.970910      12.954585    11.0      58.00   \n",
       "reactions           183142.0      66.103706       9.155408    17.0      61.00   \n",
       "balance             181265.0      65.189496      13.063188    12.0      58.00   \n",
       "shot_power          183142.0      61.808427      16.135143     2.0      54.00   \n",
       "jumping             181265.0      66.969045      11.006734    14.0      60.00   \n",
       "stamina             183142.0      67.038544      13.165262    10.0      61.00   \n",
       "strength            183142.0      67.424529      12.072280    10.0      60.00   \n",
       "long_shots          183142.0      53.339431      18.367025     1.0      41.00   \n",
       "aggression          183142.0      60.948046      16.089521     6.0      51.00   \n",
       "interceptions       183142.0      52.009271      19.450133     1.0      34.00   \n",
       "positioning         183142.0      55.786504      18.448292     2.0      45.00   \n",
       "vision              181265.0      57.873550      15.144086     1.0      49.00   \n",
       "penalties           183142.0      55.003986      15.546519     2.0      45.00   \n",
       "marking             183142.0      46.772242      21.227667     1.0      25.00   \n",
       "standing_tackle     183142.0      50.351257      21.483706     1.0      29.00   \n",
       "sliding_tackle      181265.0      48.001462      21.598778     2.0      25.00   \n",
       "gk_diving           183142.0      14.704393      16.865467     1.0       7.00   \n",
       "gk_handling         183142.0      16.063612      15.867382     1.0       8.00   \n",
       "gk_kicking          183142.0      20.998362      21.452980     1.0       8.00   \n",
       "gk_positioning      183142.0      16.132154      16.099175     1.0       8.00   \n",
       "gk_reflexes         183142.0      16.441439      17.198155     1.0       8.00   \n",
       "\n",
       "                         50%        75%       max  \n",
       "id                   91989.5  137983.75  183978.0  \n",
       "player_fifa_api_id  183488.0  199848.00  234141.0  \n",
       "player_api_id        77741.0  191080.00  750584.0  \n",
       "overall_rating          69.0      73.00      94.0  \n",
       "potential               74.0      78.00      97.0  \n",
       "crossing                59.0      68.00      95.0  \n",
       "finishing               53.0      65.00      97.0  \n",
       "heading_accuracy        60.0      68.00      98.0  \n",
       "short_passing           65.0      72.00      97.0  \n",
       "volleys                 52.0      64.00      93.0  \n",
       "dribbling               64.0      72.00      97.0  \n",
       "curve                   56.0      67.00      94.0  \n",
       "free_kick_accuracy      50.0      63.00      97.0  \n",
       "long_passing            59.0      67.00      97.0  \n",
       "ball_control            67.0      73.00      97.0  \n",
       "acceleration            69.0      77.00      97.0  \n",
       "sprint_speed            69.0      77.00      97.0  \n",
       "agility                 68.0      75.00      96.0  \n",
       "reactions               67.0      72.00      96.0  \n",
       "balance                 67.0      74.00      96.0  \n",
       "shot_power              65.0      73.00      97.0  \n",
       "jumping                 68.0      74.00      96.0  \n",
       "stamina                 69.0      76.00      96.0  \n",
       "strength                69.0      76.00      96.0  \n",
       "long_shots              58.0      67.00      96.0  \n",
       "aggression              64.0      73.00      97.0  \n",
       "interceptions           57.0      68.00      96.0  \n",
       "positioning             60.0      69.00      96.0  \n",
       "vision                  60.0      69.00      97.0  \n",
       "penalties               57.0      67.00      96.0  \n",
       "marking                 50.0      66.00      96.0  \n",
       "standing_tackle         56.0      69.00      95.0  \n",
       "sliding_tackle          53.0      67.00      95.0  \n",
       "gk_diving               10.0      13.00      94.0  \n",
       "gk_handling             11.0      15.00      93.0  \n",
       "gk_kicking              12.0      15.00      97.0  \n",
       "gk_positioning          11.0      15.00      96.0  \n",
       "gk_reflexes             11.0      15.00      96.0  "
      ]
     },
     "execution_count": 10,
     "metadata": {},
     "output_type": "execute_result"
    }
   ],
   "source": [
    "df.describe().transpose()"
   ]
  },
  {
   "cell_type": "code",
   "execution_count": 11,
   "metadata": {},
   "outputs": [
    {
     "data": {
      "text/html": [
       "<div>\n",
       "<style scoped>\n",
       "    .dataframe tbody tr th:only-of-type {\n",
       "        vertical-align: middle;\n",
       "    }\n",
       "\n",
       "    .dataframe tbody tr th {\n",
       "        vertical-align: top;\n",
       "    }\n",
       "\n",
       "    .dataframe thead th {\n",
       "        text-align: right;\n",
       "    }\n",
       "</style>\n",
       "<table border=\"1\" class=\"dataframe\">\n",
       "  <thead>\n",
       "    <tr style=\"text-align: right;\">\n",
       "      <th></th>\n",
       "      <th>id</th>\n",
       "      <th>player_fifa_api_id</th>\n",
       "      <th>player_api_id</th>\n",
       "      <th>date</th>\n",
       "      <th>overall_rating</th>\n",
       "      <th>potential</th>\n",
       "      <th>preferred_foot</th>\n",
       "      <th>attacking_work_rate</th>\n",
       "      <th>defensive_work_rate</th>\n",
       "      <th>crossing</th>\n",
       "      <th>...</th>\n",
       "      <th>vision</th>\n",
       "      <th>penalties</th>\n",
       "      <th>marking</th>\n",
       "      <th>standing_tackle</th>\n",
       "      <th>sliding_tackle</th>\n",
       "      <th>gk_diving</th>\n",
       "      <th>gk_handling</th>\n",
       "      <th>gk_kicking</th>\n",
       "      <th>gk_positioning</th>\n",
       "      <th>gk_reflexes</th>\n",
       "    </tr>\n",
       "  </thead>\n",
       "  <tbody>\n",
       "    <tr>\n",
       "      <th>0</th>\n",
       "      <td>1</td>\n",
       "      <td>218353</td>\n",
       "      <td>505942</td>\n",
       "      <td>2016-02-18 00:00:00</td>\n",
       "      <td>67.0</td>\n",
       "      <td>71.0</td>\n",
       "      <td>right</td>\n",
       "      <td>medium</td>\n",
       "      <td>medium</td>\n",
       "      <td>49.0</td>\n",
       "      <td>...</td>\n",
       "      <td>54.0</td>\n",
       "      <td>48.0</td>\n",
       "      <td>65.0</td>\n",
       "      <td>69.0</td>\n",
       "      <td>69.0</td>\n",
       "      <td>6.0</td>\n",
       "      <td>11.0</td>\n",
       "      <td>10.0</td>\n",
       "      <td>8.0</td>\n",
       "      <td>8.0</td>\n",
       "    </tr>\n",
       "  </tbody>\n",
       "</table>\n",
       "<p>1 rows × 42 columns</p>\n",
       "</div>"
      ],
      "text/plain": [
       "   id  player_fifa_api_id  player_api_id                 date  overall_rating  \\\n",
       "0   1              218353         505942  2016-02-18 00:00:00            67.0   \n",
       "\n",
       "   potential preferred_foot attacking_work_rate defensive_work_rate  crossing  \\\n",
       "0       71.0          right              medium              medium      49.0   \n",
       "\n",
       "      ...       vision  penalties  marking  standing_tackle  sliding_tackle  \\\n",
       "0     ...         54.0       48.0     65.0             69.0            69.0   \n",
       "\n",
       "   gk_diving  gk_handling  gk_kicking  gk_positioning  gk_reflexes  \n",
       "0        6.0         11.0        10.0             8.0          8.0  \n",
       "\n",
       "[1 rows x 42 columns]"
      ]
     },
     "execution_count": 11,
     "metadata": {},
     "output_type": "execute_result"
    }
   ],
   "source": [
    "df.head(1)"
   ]
  },
  {
   "cell_type": "markdown",
   "metadata": {},
   "source": [
    "## Data Cleaning: Handling Missing Data"
   ]
  },
  {
   "cell_type": "code",
   "execution_count": 18,
   "metadata": {},
   "outputs": [
    {
     "data": {
      "text/plain": [
       "(True, (183978, 42))"
      ]
     },
     "execution_count": 18,
     "metadata": {},
     "output_type": "execute_result"
    }
   ],
   "source": [
    "# is any row NULL?\n",
    "df.isnull().any().any(), df.shape"
   ]
  },
  {
   "cell_type": "code",
   "execution_count": 19,
   "metadata": {},
   "outputs": [
    {
     "data": {
      "text/plain": [
       "id                        0\n",
       "player_fifa_api_id        0\n",
       "player_api_id             0\n",
       "date                      0\n",
       "overall_rating          836\n",
       "potential               836\n",
       "preferred_foot          836\n",
       "attacking_work_rate    3230\n",
       "defensive_work_rate     836\n",
       "crossing                836\n",
       "finishing               836\n",
       "heading_accuracy        836\n",
       "short_passing           836\n",
       "volleys                2713\n",
       "dribbling               836\n",
       "curve                  2713\n",
       "free_kick_accuracy      836\n",
       "long_passing            836\n",
       "ball_control            836\n",
       "acceleration            836\n",
       "sprint_speed            836\n",
       "agility                2713\n",
       "reactions               836\n",
       "balance                2713\n",
       "shot_power              836\n",
       "jumping                2713\n",
       "stamina                 836\n",
       "strength                836\n",
       "long_shots              836\n",
       "aggression              836\n",
       "interceptions           836\n",
       "positioning             836\n",
       "vision                 2713\n",
       "penalties               836\n",
       "marking                 836\n",
       "standing_tackle         836\n",
       "sliding_tackle         2713\n",
       "gk_diving               836\n",
       "gk_handling             836\n",
       "gk_kicking              836\n",
       "gk_positioning          836\n",
       "gk_reflexes             836\n",
       "dtype: int64"
      ]
     },
     "execution_count": 19,
     "metadata": {},
     "output_type": "execute_result"
    }
   ],
   "source": [
    "df.isnull().sum(axis=0)"
   ]
  },
  {
   "cell_type": "markdown",
   "metadata": {},
   "source": [
    "#### Fixing Null Values by Deleting Them"
   ]
  },
  {
   "cell_type": "code",
   "execution_count": 22,
   "metadata": {},
   "outputs": [],
   "source": [
    "rows_before = df.shape[0]\n",
    "\n",
    "# drop the NULL rows\n",
    "df = df.dropna()\n",
    "\n",
    "rows_after = df.shape[0]"
   ]
  },
  {
   "cell_type": "code",
   "execution_count": 23,
   "metadata": {},
   "outputs": [
    {
     "name": "stdout",
     "output_type": "stream",
     "text": [
      "number of rows before droping NULLs: 183978\n",
      "number of ows after droping NULLs: 180354\n"
     ]
    }
   ],
   "source": [
    "print('number of rows before droping NULLs:', rows_before)\n",
    "print('number of ows after droping NULLs:', rows_after)"
   ]
  },
  {
   "cell_type": "code",
   "execution_count": 24,
   "metadata": {},
   "outputs": [
    {
     "name": "stdout",
     "output_type": "stream",
     "text": [
      "nember of deleting items: 3624\n"
     ]
    }
   ],
   "source": [
    "print('nember of deleting items:', rows_before - rows_after)"
   ]
  },
  {
   "cell_type": "code",
   "execution_count": 25,
   "metadata": {},
   "outputs": [
    {
     "data": {
      "text/plain": [
       "(False, (180354, 42))"
      ]
     },
     "execution_count": 25,
     "metadata": {},
     "output_type": "execute_result"
    }
   ],
   "source": [
    "df.isnull().any().any(), df.shape"
   ]
  },
  {
   "cell_type": "code",
   "execution_count": 33,
   "metadata": {},
   "outputs": [],
   "source": [
    "# shuffle the rows of df so we will get a distributed sample\n",
    "df = df.reindex(np.random.permutation(df.index))"
   ]
  },
  {
   "cell_type": "code",
   "execution_count": 34,
   "metadata": {},
   "outputs": [
    {
     "data": {
      "text/html": [
       "<div>\n",
       "<style scoped>\n",
       "    .dataframe tbody tr th:only-of-type {\n",
       "        vertical-align: middle;\n",
       "    }\n",
       "\n",
       "    .dataframe tbody tr th {\n",
       "        vertical-align: top;\n",
       "    }\n",
       "\n",
       "    .dataframe thead th {\n",
       "        text-align: right;\n",
       "    }\n",
       "</style>\n",
       "<table border=\"1\" class=\"dataframe\">\n",
       "  <thead>\n",
       "    <tr style=\"text-align: right;\">\n",
       "      <th></th>\n",
       "      <th>id</th>\n",
       "      <th>player_fifa_api_id</th>\n",
       "      <th>player_api_id</th>\n",
       "      <th>date</th>\n",
       "      <th>overall_rating</th>\n",
       "      <th>potential</th>\n",
       "      <th>preferred_foot</th>\n",
       "      <th>attacking_work_rate</th>\n",
       "      <th>defensive_work_rate</th>\n",
       "      <th>crossing</th>\n",
       "      <th>...</th>\n",
       "      <th>vision</th>\n",
       "      <th>penalties</th>\n",
       "      <th>marking</th>\n",
       "      <th>standing_tackle</th>\n",
       "      <th>sliding_tackle</th>\n",
       "      <th>gk_diving</th>\n",
       "      <th>gk_handling</th>\n",
       "      <th>gk_kicking</th>\n",
       "      <th>gk_positioning</th>\n",
       "      <th>gk_reflexes</th>\n",
       "    </tr>\n",
       "  </thead>\n",
       "  <tbody>\n",
       "    <tr>\n",
       "      <th>33958</th>\n",
       "      <td>33959</td>\n",
       "      <td>179875</td>\n",
       "      <td>101969</td>\n",
       "      <td>2013-02-15 00:00:00</td>\n",
       "      <td>76.0</td>\n",
       "      <td>78.0</td>\n",
       "      <td>right</td>\n",
       "      <td>medium</td>\n",
       "      <td>low</td>\n",
       "      <td>54.0</td>\n",
       "      <td>...</td>\n",
       "      <td>64.0</td>\n",
       "      <td>67.0</td>\n",
       "      <td>30.0</td>\n",
       "      <td>30.0</td>\n",
       "      <td>26.0</td>\n",
       "      <td>13.0</td>\n",
       "      <td>12.0</td>\n",
       "      <td>8.0</td>\n",
       "      <td>7.0</td>\n",
       "      <td>15.0</td>\n",
       "    </tr>\n",
       "  </tbody>\n",
       "</table>\n",
       "<p>1 rows × 42 columns</p>\n",
       "</div>"
      ],
      "text/plain": [
       "          id  player_fifa_api_id  player_api_id                 date  \\\n",
       "33958  33959              179875         101969  2013-02-15 00:00:00   \n",
       "\n",
       "       overall_rating  potential preferred_foot attacking_work_rate  \\\n",
       "33958            76.0       78.0          right              medium   \n",
       "\n",
       "      defensive_work_rate  crossing     ...       vision  penalties  marking  \\\n",
       "33958                 low      54.0     ...         64.0       67.0     30.0   \n",
       "\n",
       "       standing_tackle  sliding_tackle  gk_diving  gk_handling  gk_kicking  \\\n",
       "33958             30.0            26.0       13.0         12.0         8.0   \n",
       "\n",
       "       gk_positioning  gk_reflexes  \n",
       "33958             7.0         15.0  \n",
       "\n",
       "[1 rows x 42 columns]"
      ]
     },
     "execution_count": 34,
     "metadata": {},
     "output_type": "execute_result"
    }
   ],
   "source": [
    "df.head(1)"
   ]
  },
  {
   "cell_type": "markdown",
   "metadata": {},
   "source": [
    "## Predicting: 'overall_rating' of a player"
   ]
  },
  {
   "cell_type": "code",
   "execution_count": 35,
   "metadata": {},
   "outputs": [
    {
     "data": {
      "text/html": [
       "<div>\n",
       "<style scoped>\n",
       "    .dataframe tbody tr th:only-of-type {\n",
       "        vertical-align: middle;\n",
       "    }\n",
       "\n",
       "    .dataframe tbody tr th {\n",
       "        vertical-align: top;\n",
       "    }\n",
       "\n",
       "    .dataframe thead th {\n",
       "        text-align: right;\n",
       "    }\n",
       "</style>\n",
       "<table border=\"1\" class=\"dataframe\">\n",
       "  <thead>\n",
       "    <tr style=\"text-align: right;\">\n",
       "      <th></th>\n",
       "      <th>penalties</th>\n",
       "      <th>overall_rating</th>\n",
       "    </tr>\n",
       "  </thead>\n",
       "  <tbody>\n",
       "    <tr>\n",
       "      <th>33958</th>\n",
       "      <td>67.0</td>\n",
       "      <td>76.0</td>\n",
       "    </tr>\n",
       "    <tr>\n",
       "      <th>170336</th>\n",
       "      <td>35.0</td>\n",
       "      <td>53.0</td>\n",
       "    </tr>\n",
       "    <tr>\n",
       "      <th>15594</th>\n",
       "      <td>54.0</td>\n",
       "      <td>65.0</td>\n",
       "    </tr>\n",
       "    <tr>\n",
       "      <th>45455</th>\n",
       "      <td>38.0</td>\n",
       "      <td>65.0</td>\n",
       "    </tr>\n",
       "    <tr>\n",
       "      <th>71512</th>\n",
       "      <td>23.0</td>\n",
       "      <td>60.0</td>\n",
       "    </tr>\n",
       "    <tr>\n",
       "      <th>38676</th>\n",
       "      <td>44.0</td>\n",
       "      <td>67.0</td>\n",
       "    </tr>\n",
       "    <tr>\n",
       "      <th>57858</th>\n",
       "      <td>50.0</td>\n",
       "      <td>57.0</td>\n",
       "    </tr>\n",
       "    <tr>\n",
       "      <th>102301</th>\n",
       "      <td>70.0</td>\n",
       "      <td>71.0</td>\n",
       "    </tr>\n",
       "    <tr>\n",
       "      <th>167644</th>\n",
       "      <td>49.0</td>\n",
       "      <td>63.0</td>\n",
       "    </tr>\n",
       "    <tr>\n",
       "      <th>138121</th>\n",
       "      <td>58.0</td>\n",
       "      <td>78.0</td>\n",
       "    </tr>\n",
       "  </tbody>\n",
       "</table>\n",
       "</div>"
      ],
      "text/plain": [
       "        penalties  overall_rating\n",
       "33958        67.0            76.0\n",
       "170336       35.0            53.0\n",
       "15594        54.0            65.0\n",
       "45455        38.0            65.0\n",
       "71512        23.0            60.0\n",
       "38676        44.0            67.0\n",
       "57858        50.0            57.0\n",
       "102301       70.0            71.0\n",
       "167644       49.0            63.0\n",
       "138121       58.0            78.0"
      ]
     },
     "execution_count": 35,
     "metadata": {},
     "output_type": "execute_result"
    }
   ],
   "source": [
    "df[:10][['penalties','overall_rating']]"
   ]
  },
  {
   "cell_type": "code",
   "execution_count": 36,
   "metadata": {},
   "outputs": [
    {
     "data": {
      "text/plain": [
       "0.39271510791118264"
      ]
     },
     "execution_count": 36,
     "metadata": {},
     "output_type": "execute_result"
    }
   ],
   "source": [
    "# mesaure correlation between 'penalties' and 'overall_rating'\n",
    "df['overall_rating'].corr(df['penalties'])"
   ]
  },
  {
   "cell_type": "code",
   "execution_count": 37,
   "metadata": {},
   "outputs": [],
   "source": [
    "# create a list of potential features to find their correlations with overall_rating\n",
    "potentialFeatures = ['acceleration', 'curve', 'free_kick_accuracy', 'ball_control', 'shot_power', 'stamina']"
   ]
  },
  {
   "cell_type": "code",
   "execution_count": 42,
   "metadata": {},
   "outputs": [
    {
     "name": "stdout",
     "output_type": "stream",
     "text": [
      "acceleration: 0.243998\n",
      "curve: 0.357566\n",
      "free_kick_accuracy: 0.349800\n",
      "ball_control: 0.443991\n",
      "shot_power: 0.428053\n",
      "stamina: 0.325606\n"
     ]
    }
   ],
   "source": [
    "for f in potentialFeatures:\n",
    "    correlation = df['overall_rating'].corr(df[f])\n",
    "    print('%s: %f' %(f,correlation))"
   ]
  },
  {
   "cell_type": "markdown",
   "metadata": {},
   "source": [
    "## Data Visualization"
   ]
  },
  {
   "cell_type": "code",
   "execution_count": 43,
   "metadata": {},
   "outputs": [],
   "source": [
    "cols = ['potential',  'crossing', 'finishing', 'heading_accuracy',\n",
    "       'short_passing', 'volleys', 'dribbling', 'curve', 'free_kick_accuracy',\n",
    "       'long_passing', 'ball_control', 'acceleration', 'sprint_speed',\n",
    "       'agility', 'reactions', 'balance', 'shot_power', 'jumping', 'stamina',\n",
    "       'strength', 'long_shots', 'aggression', 'interceptions', 'positioning',\n",
    "       'vision', 'penalties', 'marking', 'standing_tackle', 'sliding_tackle',\n",
    "       'gk_diving', 'gk_handling', 'gk_kicking', 'gk_positioning',\n",
    "       'gk_reflexes']"
   ]
  },
  {
   "cell_type": "code",
   "execution_count": 44,
   "metadata": {},
   "outputs": [],
   "source": [
    "# creating a list that contains the Pearson's Correlation of cols'features with 'overall_rating'\n",
    "correlations = [df['overall_rating'].corr(df[f]) for f in cols]"
   ]
  },
  {
   "cell_type": "code",
   "execution_count": 47,
   "metadata": {},
   "outputs": [
    {
     "data": {
      "text/plain": [
       "(('gk_handling', 0.006717294838211912), ('reactions', 0.7718560966627236))"
      ]
     },
     "execution_count": 47,
     "metadata": {},
     "output_type": "execute_result"
    }
   ],
   "source": [
    "(cols[correlations.index(min(correlations))],min(correlations)), (cols[correlations.index(max(correlations))],max(correlations))"
   ]
  },
  {
   "cell_type": "code",
   "execution_count": 48,
   "metadata": {},
   "outputs": [
    {
     "data": {
      "text/plain": [
       "(34, 34)"
      ]
     },
     "execution_count": 48,
     "metadata": {},
     "output_type": "execute_result"
    }
   ],
   "source": [
    "len(cols), len(correlations)"
   ]
  },
  {
   "cell_type": "code",
   "execution_count": 82,
   "metadata": {},
   "outputs": [],
   "source": [
    "# create a function to plot a DataFrame with string columns and numeric values\n",
    "\n",
    "def plot_dataframe(df,y_label):\n",
    "    fig = plt.gcf()\n",
    "    fig.set_size_inches(15,8)\n",
    "    \n",
    "    ax = df.correlation.plot(linewidth=3.3, color='coral')\n",
    "    ax.set_xticks(df.index)\n",
    "    ax.set_xticklabels(df.attribute, rotation=75)\n",
    "    \n",
    "    plt.ylabel(y_label)\n",
    "    plt.grid(True)\n",
    "    plt.show()"
   ]
  },
  {
   "cell_type": "code",
   "execution_count": 83,
   "metadata": {},
   "outputs": [],
   "source": [
    "df_corr = pd.DataFrame({'attribute':cols, 'correlation':correlations})"
   ]
  },
  {
   "cell_type": "code",
   "execution_count": 84,
   "metadata": {},
   "outputs": [
    {
     "data": {
      "image/png": "[encoded data removed]",
      "text/plain": [
       "<Figure size 1080x576 with 1 Axes>"
      ]
     },
     "metadata": {},
     "output_type": "display_data"
    }
   ],
   "source": [
    "plot_dataframe(df_corr, 'Player\\'s overall_rating')"
   ]
  },
  {
   "cell_type": "markdown",
   "metadata": {},
   "source": [
    "<h1 style=\"font-size:1.5em;color:#FB11C4\">Analysis of Findings</h1>\n",
    "\n",
    "Suppose you want to predict the player's **overall_rating**; what 5 player's features would you ask?"
   ]
  },
  {
   "cell_type": "markdown",
   "metadata": {},
   "source": [
    "## Clustering Players into Similar Groups(ML with KMeans Clustring)"
   ]
  },
  {
   "cell_type": "code",
   "execution_count": 85,
   "metadata": {},
   "outputs": [],
   "source": [
    "# define the features for grouping players\n",
    "select5features = ['gk_kicking', 'potential', 'marking', 'interceptions', 'standing_tackle']"
   ]
  },
  {
   "cell_type": "code",
   "execution_count": 87,
   "metadata": {},
   "outputs": [],
   "source": [
    "# create new DataFrame according to group features\n",
    "df_select = df[select5features].copy(deep=True)"
   ]
  },
  {
   "cell_type": "code",
   "execution_count": 88,
   "metadata": {},
   "outputs": [
    {
     "data": {
      "text/html": [
       "<div>\n",
       "<style scoped>\n",
       "    .dataframe tbody tr th:only-of-type {\n",
       "        vertical-align: middle;\n",
       "    }\n",
       "\n",
       "    .dataframe tbody tr th {\n",
       "        vertical-align: top;\n",
       "    }\n",
       "\n",
       "    .dataframe thead th {\n",
       "        text-align: right;\n",
       "    }\n",
       "</style>\n",
       "<table border=\"1\" class=\"dataframe\">\n",
       "  <thead>\n",
       "    <tr style=\"text-align: right;\">\n",
       "      <th></th>\n",
       "      <th>gk_kicking</th>\n",
       "      <th>potential</th>\n",
       "      <th>marking</th>\n",
       "      <th>interceptions</th>\n",
       "      <th>standing_tackle</th>\n",
       "    </tr>\n",
       "  </thead>\n",
       "  <tbody>\n",
       "    <tr>\n",
       "      <th>33958</th>\n",
       "      <td>8.0</td>\n",
       "      <td>78.0</td>\n",
       "      <td>30.0</td>\n",
       "      <td>38.0</td>\n",
       "      <td>30.0</td>\n",
       "    </tr>\n",
       "    <tr>\n",
       "      <th>170336</th>\n",
       "      <td>9.0</td>\n",
       "      <td>63.0</td>\n",
       "      <td>51.0</td>\n",
       "      <td>48.0</td>\n",
       "      <td>56.0</td>\n",
       "    </tr>\n",
       "    <tr>\n",
       "      <th>15594</th>\n",
       "      <td>11.0</td>\n",
       "      <td>68.0</td>\n",
       "      <td>65.0</td>\n",
       "      <td>63.0</td>\n",
       "      <td>61.0</td>\n",
       "    </tr>\n",
       "    <tr>\n",
       "      <th>45455</th>\n",
       "      <td>15.0</td>\n",
       "      <td>65.0</td>\n",
       "      <td>65.0</td>\n",
       "      <td>62.0</td>\n",
       "      <td>70.0</td>\n",
       "    </tr>\n",
       "    <tr>\n",
       "      <th>71512</th>\n",
       "      <td>78.0</td>\n",
       "      <td>60.0</td>\n",
       "      <td>25.0</td>\n",
       "      <td>25.0</td>\n",
       "      <td>25.0</td>\n",
       "    </tr>\n",
       "  </tbody>\n",
       "</table>\n",
       "</div>"
      ],
      "text/plain": [
       "        gk_kicking  potential  marking  interceptions  standing_tackle\n",
       "33958          8.0       78.0     30.0           38.0             30.0\n",
       "170336         9.0       63.0     51.0           48.0             56.0\n",
       "15594         11.0       68.0     65.0           63.0             61.0\n",
       "45455         15.0       65.0     65.0           62.0             70.0\n",
       "71512         78.0       60.0     25.0           25.0             25.0"
      ]
     },
     "execution_count": 88,
     "metadata": {},
     "output_type": "execute_result"
    }
   ],
   "source": [
    "df_select.head()"
   ]
  },
  {
   "cell_type": "markdown",
   "metadata": {},
   "source": [
    "## KMeans Clustring"
   ]
  },
  {
   "cell_type": "code",
   "execution_count": 89,
   "metadata": {},
   "outputs": [],
   "source": [
    "# scaling the dataset\n",
    "data = scale(df_select)"
   ]
  },
  {
   "cell_type": "code",
   "execution_count": 106,
   "metadata": {},
   "outputs": [],
   "source": [
    "# creating a model with 4 clusters\n",
    "model = KMeans(n_clusters=4)"
   ]
  },
  {
   "cell_type": "code",
   "execution_count": 107,
   "metadata": {},
   "outputs": [
    {
     "data": {
      "text/plain": [
       "KMeans(algorithm='auto', copy_x=True, init='k-means++', max_iter=300,\n",
       "    n_clusters=4, n_init=10, n_jobs=1, precompute_distances='auto',\n",
       "    random_state=None, tol=0.0001, verbose=0)"
      ]
     },
     "execution_count": 107,
     "metadata": {},
     "output_type": "execute_result"
    }
   ],
   "source": [
    "# train the model with dataset\n",
    "model.fit(data)"
   ]
  },
  {
   "cell_type": "code",
   "execution_count": 108,
   "metadata": {},
   "outputs": [
    {
     "name": "stdout",
     "output_type": "stream",
     "text": [
      "__________________________________________________________________________________________\n",
      "\n",
      "Count of players in each cluster\n",
      "__________________________________________________________________________________________\n"
     ]
    },
    {
     "data": {
      "text/plain": [
       "0    50647\n",
       "1    55855\n",
       "2    50067\n",
       "3    23785\n",
       "dtype: int64"
      ]
     },
     "execution_count": 108,
     "metadata": {},
     "output_type": "execute_result"
    }
   ],
   "source": [
    "print(90*'_')\n",
    "print('\\nCount of players in each cluster')\n",
    "print(90*'_')\n",
    "\n",
    "pd.value_counts(model.labels_, sort=False)"
   ]
  },
  {
   "cell_type": "code",
   "execution_count": 109,
   "metadata": {},
   "outputs": [
    {
     "data": {
      "text/html": [
       "<div>\n",
       "<style scoped>\n",
       "    .dataframe tbody tr th:only-of-type {\n",
       "        vertical-align: middle;\n",
       "    }\n",
       "\n",
       "    .dataframe tbody tr th {\n",
       "        vertical-align: top;\n",
       "    }\n",
       "\n",
       "    .dataframe thead th {\n",
       "        text-align: right;\n",
       "    }\n",
       "</style>\n",
       "<table border=\"1\" class=\"dataframe\">\n",
       "  <thead>\n",
       "    <tr style=\"text-align: right;\">\n",
       "      <th></th>\n",
       "      <th>gk_kicking</th>\n",
       "      <th>potential</th>\n",
       "      <th>marking</th>\n",
       "      <th>interceptions</th>\n",
       "      <th>standing_tackle</th>\n",
       "      <th>prediction</th>\n",
       "    </tr>\n",
       "  </thead>\n",
       "  <tbody>\n",
       "    <tr>\n",
       "      <th>0</th>\n",
       "      <td>-0.044679</td>\n",
       "      <td>0.700445</td>\n",
       "      <td>1.027365</td>\n",
       "      <td>0.982318</td>\n",
       "      <td>1.029940</td>\n",
       "      <td>0</td>\n",
       "    </tr>\n",
       "    <tr>\n",
       "      <th>1</th>\n",
       "      <td>-0.477100</td>\n",
       "      <td>0.106977</td>\n",
       "      <td>-0.948378</td>\n",
       "      <td>-0.975857</td>\n",
       "      <td>-0.914847</td>\n",
       "      <td>1</td>\n",
       "    </tr>\n",
       "    <tr>\n",
       "      <th>2</th>\n",
       "      <td>-0.335221</td>\n",
       "      <td>-0.847380</td>\n",
       "      <td>0.545624</td>\n",
       "      <td>0.403817</td>\n",
       "      <td>0.548035</td>\n",
       "      <td>2</td>\n",
       "    </tr>\n",
       "    <tr>\n",
       "      <th>3</th>\n",
       "      <td>1.920642</td>\n",
       "      <td>0.039130</td>\n",
       "      <td>-1.111156</td>\n",
       "      <td>-0.652256</td>\n",
       "      <td>-1.200435</td>\n",
       "      <td>3</td>\n",
       "    </tr>\n",
       "  </tbody>\n",
       "</table>\n",
       "</div>"
      ],
      "text/plain": [
       "   gk_kicking  potential   marking  interceptions  standing_tackle  prediction\n",
       "0   -0.044679   0.700445  1.027365       0.982318         1.029940           0\n",
       "1   -0.477100   0.106977 -0.948378      -0.975857        -0.914847           1\n",
       "2   -0.335221  -0.847380  0.545624       0.403817         0.548035           2\n",
       "3    1.920642   0.039130 -1.111156      -0.652256        -1.200435           3"
      ]
     },
     "execution_count": 109,
     "metadata": {},
     "output_type": "execute_result"
    }
   ],
   "source": [
    "# create a composite DataFrame for plotting the clusters using customplot.py\n",
    "P = pd_centers(featuresUsed=select5features, centers=model.cluster_centers_)\n",
    "P"
   ]
  },
  {
   "cell_type": "markdown",
   "metadata": {},
   "source": [
    "## Visualization of Clusters"
   ]
  },
  {
   "cell_type": "code",
   "execution_count": 110,
   "metadata": {},
   "outputs": [
    {
     "name": "stderr",
     "output_type": "stream",
     "text": [
      "C:\\Users\\Ali Saghi\\05_edx\\Python for Data Science\\Week_01\\customplot.py:31: FutureWarning: 'pandas.tools.plotting.parallel_coordinates' is deprecated, import 'pandas.plotting.parallel_coordinates' instead.\n",
      "  parallel_coordinates(data, 'prediction', color = my_colors, marker='o')\n"
     ]
    },
    {
     "data": {
      "image/png": "[encoded data removed]",
      "text/plain": [
       "<Figure size 1080x576 with 1 Axes>"
      ]
     },
     "metadata": {},
     "output_type": "display_data"
    }
   ],
   "source": [
    "%matplotlib inline\n",
    "parallel_plot(P)"
   ]
  },
  {
   "cell_type": "markdown",
   "metadata": {},
   "source": [
    "### Can you identify the groups for each of the below?\n",
    "* Two groups are very similar except in gk_kicking - these players can coach each other on gk_kicking, where they differ.\n",
    "* Two groups are somewhat similar to each other except in potential."
   ]
  },
  {
   "cell_type": "code",
   "execution_count": null,
   "metadata": {},
   "outputs": [],
   "source": []
  }
 ],
 "metadata": {
  "kernelspec": {
   "display_name": "Python 3",
   "language": "python",
   "name": "python3"
  },
  "language_info": {
   "codemirror_mode": {
    "name": "ipython",
    "version": 3
   },
   "file_extension": ".py",
   "mimetype": "text/x-python",
   "name": "python",
   "nbconvert_exporter": "python",
   "pygments_lexer": "ipython3",
   "version": "3.6.5"
  }
 },
 "nbformat": 4,
 "nbformat_minor": 2
}
